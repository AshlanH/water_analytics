{
 "cells": [
  {
   "cell_type": "markdown",
   "id": "average-equipment",
   "metadata": {},
   "source": [
    "## Staging field for experimenting with dataset"
   ]
  },
  {
   "cell_type": "code",
   "execution_count": 1,
   "id": "complicated-upper",
   "metadata": {},
   "outputs": [],
   "source": [
    "import numpy as np # linear algebra\n",
    "import pandas as pd # data processing, CSV file I/O (e.g. pd.read_csv)\n",
    "\n",
    "import seaborn as sns # Visualization\n",
    "import matplotlib.pyplot as plt # Visualization\n",
    "\n",
    "from sklearn.metrics import mean_absolute_error, mean_squared_error\n",
    "import math\n",
    "\n",
    "import warnings # Supress warnings \n",
    "warnings.filterwarnings('ignore')\n",
    "\n",
    "pd.set_option('display.max_rows', 200) #total row able to be displayed in jupyter notebook\n",
    "sns.set_style(\"whitegrid\")"
   ]
  },
  {
   "cell_type": "code",
   "execution_count": 2,
   "id": "material-operations",
   "metadata": {},
   "outputs": [
    {
     "data": {
      "text/html": [
       "<div>\n",
       "<style scoped>\n",
       "    .dataframe tbody tr th:only-of-type {\n",
       "        vertical-align: middle;\n",
       "    }\n",
       "\n",
       "    .dataframe tbody tr th {\n",
       "        vertical-align: top;\n",
       "    }\n",
       "\n",
       "    .dataframe thead th {\n",
       "        text-align: right;\n",
       "    }\n",
       "</style>\n",
       "<table border=\"1\" class=\"dataframe\">\n",
       "  <thead>\n",
       "    <tr style=\"text-align: right;\">\n",
       "      <th></th>\n",
       "      <th>Date</th>\n",
       "      <th>Rainfall</th>\n",
       "      <th>Depth_to_Groundwater</th>\n",
       "      <th>Temperature</th>\n",
       "      <th>Drainage_Volume</th>\n",
       "      <th>River_Hydrometry</th>\n",
       "    </tr>\n",
       "  </thead>\n",
       "  <tbody>\n",
       "    <tr>\n",
       "      <th>0</th>\n",
       "      <td>01/01/2009</td>\n",
       "      <td>0.0</td>\n",
       "      <td>-31.14</td>\n",
       "      <td>5.2</td>\n",
       "      <td>-24530.688</td>\n",
       "      <td>2.4</td>\n",
       "    </tr>\n",
       "    <tr>\n",
       "      <th>1</th>\n",
       "      <td>02/01/2009</td>\n",
       "      <td>0.0</td>\n",
       "      <td>-31.11</td>\n",
       "      <td>2.3</td>\n",
       "      <td>-28785.888</td>\n",
       "      <td>2.5</td>\n",
       "    </tr>\n",
       "    <tr>\n",
       "      <th>2</th>\n",
       "      <td>03/01/2009</td>\n",
       "      <td>0.0</td>\n",
       "      <td>-31.07</td>\n",
       "      <td>4.4</td>\n",
       "      <td>-25766.208</td>\n",
       "      <td>2.4</td>\n",
       "    </tr>\n",
       "    <tr>\n",
       "      <th>3</th>\n",
       "      <td>04/01/2009</td>\n",
       "      <td>0.0</td>\n",
       "      <td>-31.05</td>\n",
       "      <td>0.8</td>\n",
       "      <td>-27919.296</td>\n",
       "      <td>2.4</td>\n",
       "    </tr>\n",
       "    <tr>\n",
       "      <th>4</th>\n",
       "      <td>05/01/2009</td>\n",
       "      <td>0.0</td>\n",
       "      <td>-31.01</td>\n",
       "      <td>-1.9</td>\n",
       "      <td>-29854.656</td>\n",
       "      <td>2.3</td>\n",
       "    </tr>\n",
       "  </tbody>\n",
       "</table>\n",
       "</div>"
      ],
      "text/plain": [
       "         Date  Rainfall  Depth_to_Groundwater  Temperature  Drainage_Volume  \\\n",
       "0  01/01/2009       0.0                -31.14          5.2       -24530.688   \n",
       "1  02/01/2009       0.0                -31.11          2.3       -28785.888   \n",
       "2  03/01/2009       0.0                -31.07          4.4       -25766.208   \n",
       "3  04/01/2009       0.0                -31.05          0.8       -27919.296   \n",
       "4  05/01/2009       0.0                -31.01         -1.9       -29854.656   \n",
       "\n",
       "   River_Hydrometry  \n",
       "0               2.4  \n",
       "1               2.5  \n",
       "2               2.4  \n",
       "3               2.4  \n",
       "4               2.3  "
      ]
     },
     "execution_count": 2,
     "metadata": {},
     "output_type": "execute_result"
    }
   ],
   "source": [
    "df = pd.read_csv(\"Aquifer_Petrignano.csv\")\n",
    "\n",
    "# Drop data before 2009 for the purpose of this tutorial\n",
    "df = df[df.Rainfall_Bastia_Umbra.notna()].reset_index(drop=True)\n",
    "# Drop one of the target columns, so we can focus on only one target\n",
    "df = df.drop(['Depth_to_Groundwater_P24', 'Temperature_Petrignano'], axis=1)\n",
    "\n",
    "# Simplify column names\n",
    "df.columns = ['Date', 'Rainfall', 'Depth_to_Groundwater', 'Temperature', 'Drainage_Volume', 'River_Hydrometry']\n",
    "\n",
    "targets = ['Depth_to_Groundwater']\n",
    "features = [feature for feature in df.columns if feature not in targets]\n",
    "df.head()"
   ]
  },
  {
   "cell_type": "code",
   "execution_count": 3,
   "id": "pediatric-holiday",
   "metadata": {},
   "outputs": [
    {
     "data": {
      "text/html": [
       "<style  type=\"text/css\" >\n",
       "#T_7a4be_row0_col0,#T_7a4be_row1_col0,#T_7a4be_row2_col0,#T_7a4be_row3_col0,#T_7a4be_row4_col0{\n",
       "            background-color:  dodgerblue;\n",
       "        }</style><table id=\"T_7a4be_\" ><thead>    <tr>        <th class=\"blank level0\" ></th>        <th class=\"col_heading level0 col0\" >Date</th>        <th class=\"col_heading level0 col1\" >Rainfall</th>        <th class=\"col_heading level0 col2\" >Depth_to_Groundwater</th>        <th class=\"col_heading level0 col3\" >Temperature</th>        <th class=\"col_heading level0 col4\" >Drainage_Volume</th>        <th class=\"col_heading level0 col5\" >River_Hydrometry</th>    </tr></thead><tbody>\n",
       "                <tr>\n",
       "                        <th id=\"T_7a4be_level0_row0\" class=\"row_heading level0 row0\" >0</th>\n",
       "                        <td id=\"T_7a4be_row0_col0\" class=\"data row0 col0\" >2009-01-01 00:00:00</td>\n",
       "                        <td id=\"T_7a4be_row0_col1\" class=\"data row0 col1\" >0.000000</td>\n",
       "                        <td id=\"T_7a4be_row0_col2\" class=\"data row0 col2\" >-31.140000</td>\n",
       "                        <td id=\"T_7a4be_row0_col3\" class=\"data row0 col3\" >5.200000</td>\n",
       "                        <td id=\"T_7a4be_row0_col4\" class=\"data row0 col4\" >-24530.688000</td>\n",
       "                        <td id=\"T_7a4be_row0_col5\" class=\"data row0 col5\" >2.400000</td>\n",
       "            </tr>\n",
       "            <tr>\n",
       "                        <th id=\"T_7a4be_level0_row1\" class=\"row_heading level0 row1\" >1</th>\n",
       "                        <td id=\"T_7a4be_row1_col0\" class=\"data row1 col0\" >2009-01-02 00:00:00</td>\n",
       "                        <td id=\"T_7a4be_row1_col1\" class=\"data row1 col1\" >0.000000</td>\n",
       "                        <td id=\"T_7a4be_row1_col2\" class=\"data row1 col2\" >-31.110000</td>\n",
       "                        <td id=\"T_7a4be_row1_col3\" class=\"data row1 col3\" >2.300000</td>\n",
       "                        <td id=\"T_7a4be_row1_col4\" class=\"data row1 col4\" >-28785.888000</td>\n",
       "                        <td id=\"T_7a4be_row1_col5\" class=\"data row1 col5\" >2.500000</td>\n",
       "            </tr>\n",
       "            <tr>\n",
       "                        <th id=\"T_7a4be_level0_row2\" class=\"row_heading level0 row2\" >2</th>\n",
       "                        <td id=\"T_7a4be_row2_col0\" class=\"data row2 col0\" >2009-01-03 00:00:00</td>\n",
       "                        <td id=\"T_7a4be_row2_col1\" class=\"data row2 col1\" >0.000000</td>\n",
       "                        <td id=\"T_7a4be_row2_col2\" class=\"data row2 col2\" >-31.070000</td>\n",
       "                        <td id=\"T_7a4be_row2_col3\" class=\"data row2 col3\" >4.400000</td>\n",
       "                        <td id=\"T_7a4be_row2_col4\" class=\"data row2 col4\" >-25766.208000</td>\n",
       "                        <td id=\"T_7a4be_row2_col5\" class=\"data row2 col5\" >2.400000</td>\n",
       "            </tr>\n",
       "            <tr>\n",
       "                        <th id=\"T_7a4be_level0_row3\" class=\"row_heading level0 row3\" >3</th>\n",
       "                        <td id=\"T_7a4be_row3_col0\" class=\"data row3 col0\" >2009-01-04 00:00:00</td>\n",
       "                        <td id=\"T_7a4be_row3_col1\" class=\"data row3 col1\" >0.000000</td>\n",
       "                        <td id=\"T_7a4be_row3_col2\" class=\"data row3 col2\" >-31.050000</td>\n",
       "                        <td id=\"T_7a4be_row3_col3\" class=\"data row3 col3\" >0.800000</td>\n",
       "                        <td id=\"T_7a4be_row3_col4\" class=\"data row3 col4\" >-27919.296000</td>\n",
       "                        <td id=\"T_7a4be_row3_col5\" class=\"data row3 col5\" >2.400000</td>\n",
       "            </tr>\n",
       "            <tr>\n",
       "                        <th id=\"T_7a4be_level0_row4\" class=\"row_heading level0 row4\" >4</th>\n",
       "                        <td id=\"T_7a4be_row4_col0\" class=\"data row4 col0\" >2009-01-05 00:00:00</td>\n",
       "                        <td id=\"T_7a4be_row4_col1\" class=\"data row4 col1\" >0.000000</td>\n",
       "                        <td id=\"T_7a4be_row4_col2\" class=\"data row4 col2\" >-31.010000</td>\n",
       "                        <td id=\"T_7a4be_row4_col3\" class=\"data row4 col3\" >-1.900000</td>\n",
       "                        <td id=\"T_7a4be_row4_col4\" class=\"data row4 col4\" >-29854.656000</td>\n",
       "                        <td id=\"T_7a4be_row4_col5\" class=\"data row4 col5\" >2.300000</td>\n",
       "            </tr>\n",
       "    </tbody></table>"
      ],
      "text/plain": [
       "<pandas.io.formats.style.Styler at 0x7fab8120b880>"
      ]
     },
     "execution_count": 3,
     "metadata": {},
     "output_type": "execute_result"
    }
   ],
   "source": [
    "from datetime import datetime, date \n",
    "\n",
    "df['Date'] = pd.to_datetime(df.Date, format = '%d/%m/%Y')\n",
    "df.head().style.set_properties(subset=['Date'], **{'background-color': 'dodgerblue'})"
   ]
  },
  {
   "cell_type": "markdown",
   "id": "technological-creativity",
   "metadata": {},
   "source": [
    "### Staging Area"
   ]
  },
  {
   "cell_type": "code",
   "execution_count": 4,
   "id": "brief-promise",
   "metadata": {},
   "outputs": [
    {
     "data": {
      "text/html": [
       "<div>\n",
       "<style scoped>\n",
       "    .dataframe tbody tr th:only-of-type {\n",
       "        vertical-align: middle;\n",
       "    }\n",
       "\n",
       "    .dataframe tbody tr th {\n",
       "        vertical-align: top;\n",
       "    }\n",
       "\n",
       "    .dataframe thead th {\n",
       "        text-align: right;\n",
       "    }\n",
       "</style>\n",
       "<table border=\"1\" class=\"dataframe\">\n",
       "  <thead>\n",
       "    <tr style=\"text-align: right;\">\n",
       "      <th></th>\n",
       "      <th>Rainfall</th>\n",
       "      <th>Depth_to_Groundwater</th>\n",
       "      <th>Temperature</th>\n",
       "      <th>Drainage_Volume</th>\n",
       "      <th>River_Hydrometry</th>\n",
       "    </tr>\n",
       "  </thead>\n",
       "  <tbody>\n",
       "    <tr>\n",
       "      <th>Rainfall</th>\n",
       "      <td>1.000000</td>\n",
       "      <td>0.067708</td>\n",
       "      <td>-0.052813</td>\n",
       "      <td>0.136405</td>\n",
       "      <td>0.141373</td>\n",
       "    </tr>\n",
       "    <tr>\n",
       "      <th>Depth_to_Groundwater</th>\n",
       "      <td>0.067708</td>\n",
       "      <td>1.000000</td>\n",
       "      <td>0.117417</td>\n",
       "      <td>0.360793</td>\n",
       "      <td>0.000276</td>\n",
       "    </tr>\n",
       "    <tr>\n",
       "      <th>Temperature</th>\n",
       "      <td>-0.052813</td>\n",
       "      <td>0.117417</td>\n",
       "      <td>1.000000</td>\n",
       "      <td>-0.069267</td>\n",
       "      <td>-0.434575</td>\n",
       "    </tr>\n",
       "    <tr>\n",
       "      <th>Drainage_Volume</th>\n",
       "      <td>0.136405</td>\n",
       "      <td>0.360793</td>\n",
       "      <td>-0.069267</td>\n",
       "      <td>1.000000</td>\n",
       "      <td>0.216617</td>\n",
       "    </tr>\n",
       "    <tr>\n",
       "      <th>River_Hydrometry</th>\n",
       "      <td>0.141373</td>\n",
       "      <td>0.000276</td>\n",
       "      <td>-0.434575</td>\n",
       "      <td>0.216617</td>\n",
       "      <td>1.000000</td>\n",
       "    </tr>\n",
       "  </tbody>\n",
       "</table>\n",
       "</div>"
      ],
      "text/plain": [
       "                      Rainfall  Depth_to_Groundwater  Temperature  \\\n",
       "Rainfall              1.000000              0.067708    -0.052813   \n",
       "Depth_to_Groundwater  0.067708              1.000000     0.117417   \n",
       "Temperature          -0.052813              0.117417     1.000000   \n",
       "Drainage_Volume       0.136405              0.360793    -0.069267   \n",
       "River_Hydrometry      0.141373              0.000276    -0.434575   \n",
       "\n",
       "                      Drainage_Volume  River_Hydrometry  \n",
       "Rainfall                     0.136405          0.141373  \n",
       "Depth_to_Groundwater         0.360793          0.000276  \n",
       "Temperature                 -0.069267         -0.434575  \n",
       "Drainage_Volume              1.000000          0.216617  \n",
       "River_Hydrometry             0.216617          1.000000  "
      ]
     },
     "execution_count": 4,
     "metadata": {},
     "output_type": "execute_result"
    }
   ],
   "source": [
    "df.corr()"
   ]
  },
  {
   "cell_type": "code",
   "execution_count": 5,
   "id": "oriented-spell",
   "metadata": {},
   "outputs": [
    {
     "data": {
      "text/plain": [
       "<AxesSubplot:>"
      ]
     },
     "execution_count": 5,
     "metadata": {},
     "output_type": "execute_result"
    },
    {
     "data": {
      "image/png": "[encoded data removed]",
      "text/plain": [
       "<Figure size 432x288 with 2 Axes>"
      ]
     },
     "metadata": {},
     "output_type": "display_data"
    }
   ],
   "source": [
    "sns.heatmap(df.corr())"
   ]
  },
  {
   "cell_type": "code",
   "execution_count": 6,
   "id": "native-galaxy",
   "metadata": {},
   "outputs": [
    {
     "data": {
      "text/plain": [
       "<AxesSubplot:xlabel='Date', ylabel='Depth_to_Groundwater'>"
      ]
     },
     "execution_count": 6,
     "metadata": {},
     "output_type": "execute_result"
    },
    {
     "data": {
      "image/png": "[encoded data removed]",
      "text/plain": [
       "<Figure size 432x288 with 1 Axes>"
      ]
     },
     "metadata": {},
     "output_type": "display_data"
    }
   ],
   "source": [
    "sns.lineplot(\n",
    "    data = df[(df.Date > datetime(2015, 1, 1)) & (df.Date < datetime(2016, 1, 1))],\n",
    "    x = 'Date',\n",
    "    y = 'Depth_to_Groundwater'\n",
    ")"
   ]
  },
  {
   "cell_type": "code",
   "execution_count": 7,
   "id": "metropolitan-collective",
   "metadata": {},
   "outputs": [
    {
     "data": {
      "text/plain": [
       "<AxesSubplot:xlabel='Date', ylabel='River_Hydrometry'>"
      ]
     },
     "execution_count": 7,
     "metadata": {},
     "output_type": "execute_result"
    },
    {
     "data": {
      "image/png": "[encoded data removed]",
      "text/plain": [
       "<Figure size 432x288 with 1 Axes>"
      ]
     },
     "metadata": {},
     "output_type": "display_data"
    }
   ],
   "source": [
    "sns.lineplot(\n",
    "    data = df[(df.Date > datetime(2015, 1, 1)) & (df.Date < datetime(2016, 1, 1))],\n",
    "    x = 'Date',\n",
    "    y = 'River_Hydrometry'\n",
    ")"
   ]
  },
  {
   "cell_type": "code",
   "execution_count": null,
   "id": "local-basin",
   "metadata": {},
   "outputs": [],
   "source": []
  }
 ],
 "metadata": {
  "kernelspec": {
   "display_name": "Python 3",
   "language": "python",
   "name": "python3"
  },
  "language_info": {
   "codemirror_mode": {
    "name": "ipython",
    "version": 3
   },
   "file_extension": ".py",
   "mimetype": "text/x-python",
   "name": "python",
   "nbconvert_exporter": "python",
   "pygments_lexer": "ipython3",
   "version": "3.9.1"
  }
 },
 "nbformat": 4,
 "nbformat_minor": 5
}
